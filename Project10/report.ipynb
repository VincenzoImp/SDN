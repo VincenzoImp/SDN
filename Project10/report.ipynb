{
 "cells": [
  {
   "cell_type": "markdown",
   "id": "0316fd48",
   "metadata": {},
   "source": [
    "# Project 10 - Vincenzo Imperati 1834930"
   ]
  },
  {
   "cell_type": "markdown",
   "id": "21fef53c",
   "metadata": {},
   "source": [
    "### Step 0 - Initialization"
   ]
  },
  {
   "cell_type": "markdown",
   "id": "4fc6588e",
   "metadata": {},
   "source": [
    "run the following command to clean mininet"
   ]
  },
  {
   "cell_type": "raw",
   "id": "0b307ccc",
   "metadata": {},
   "source": [
    "!sudo mn -c"
   ]
  },
  {
   "cell_type": "markdown",
   "id": "92914aef",
   "metadata": {},
   "source": [
    "### Step 1 - Start remote controller and setup gui topology"
   ]
  },
  {
   "cell_type": "markdown",
   "id": "798a5dba",
   "metadata": {},
   "source": [
    "run in a new shell (in Project10 folder) the following command to start the remote controller for the switches and setup gui topology usefull for informations requests"
   ]
  },
  {
   "cell_type": "raw",
   "id": "8874354a",
   "metadata": {},
   "source": [
    "!ryu-manager --observe-links gui_topology.py switch_controller.py"
   ]
  },
  {
   "cell_type": "markdown",
   "id": "fd23a04c",
   "metadata": {},
   "source": [
    "### Step 2 - Build and run the network"
   ]
  },
  {
   "cell_type": "markdown",
   "id": "8c3d6be6",
   "metadata": {},
   "source": [
    "run in a new shell (in Project10 folder) the following command to build the network and run it"
   ]
  },
  {
   "cell_type": "raw",
   "id": "d429908b",
   "metadata": {},
   "source": [
    "!sudo python3 network_topology.py"
   ]
  }
 ],
 "metadata": {
  "kernelspec": {
   "display_name": "Python 3 (ipykernel)",
   "language": "python",
   "name": "python3"
  },
  "language_info": {
   "codemirror_mode": {
    "name": "ipython",
    "version": 3
   },
   "file_extension": ".py",
   "mimetype": "text/x-python",
   "name": "python",
   "nbconvert_exporter": "python",
   "pygments_lexer": "ipython3",
   "version": "3.9.7"
  }
 },
 "nbformat": 4,
 "nbformat_minor": 5
}
