{
 "cells": [
  {
   "cell_type": "markdown",
   "id": "0316fd48",
   "metadata": {},
   "source": [
    "# Project 10 - Vincenzo Imperati 1834930"
   ]
  },
  {
   "cell_type": "markdown",
   "id": "21fef53c",
   "metadata": {},
   "source": [
    "### Step 0 - Initialization"
   ]
  },
  {
   "cell_type": "markdown",
   "id": "4fc6588e",
   "metadata": {},
   "source": [
    "run the following command to clean mininet"
   ]
  },
  {
   "cell_type": "raw",
   "id": "0b307ccc",
   "metadata": {},
   "source": [
    "!sudo mn -c"
   ]
  },
  {
   "cell_type": "markdown",
   "id": "fd23a04c",
   "metadata": {},
   "source": [
    "### Step 1 - Build the network"
   ]
  },
  {
   "cell_type": "markdown",
   "id": "8c3d6be6",
   "metadata": {},
   "source": [
    "run in a new shell (in Project10 folder) the following command to build the network"
   ]
  },
  {
   "cell_type": "raw",
   "id": "d429908b",
   "metadata": {},
   "source": [
    "!sudo python3 network_topology.py"
   ]
  },
  {
   "cell_type": "markdown",
   "id": "92914aef",
   "metadata": {},
   "source": [
    "### Step 2 - Connect remote controller and setup gui topology"
   ]
  },
  {
   "cell_type": "markdown",
   "id": "798a5dba",
   "metadata": {},
   "source": [
    "run in a new shell (in Project10 folder) the following command to connect the controller to the switches and setup gui topology usefull for informations requests "
   ]
  },
  {
   "cell_type": "raw",
   "id": "8874354a",
   "metadata": {},
   "source": [
    "!ryu-manager gui_topology.py switch_controller.py --observe-links"
   ]
  },
  {
   "cell_type": "markdown",
   "id": "4ac19770",
   "metadata": {},
   "source": [
    "### Step 3 - Pingall"
   ]
  },
  {
   "cell_type": "markdown",
   "id": "23a04f39",
   "metadata": {},
   "source": [
    "In mininet CLI run the following command"
   ]
  },
  {
   "cell_type": "raw",
   "id": "1e1dbe25",
   "metadata": {},
   "source": [
    "pingall"
   ]
  },
  {
   "cell_type": "markdown",
   "id": "1ec4014a",
   "metadata": {},
   "source": [
    "### Step 4 - Produce the required packet streams"
   ]
  },
  {
   "cell_type": "markdown",
   "id": "538f3ab8",
   "metadata": {},
   "source": []
  }
 ],
 "metadata": {
  "kernelspec": {
   "display_name": "Python 3 (ipykernel)",
   "language": "python",
   "name": "python3"
  },
  "language_info": {
   "codemirror_mode": {
    "name": "ipython",
    "version": 3
   },
   "file_extension": ".py",
   "mimetype": "text/x-python",
   "name": "python",
   "nbconvert_exporter": "python",
   "pygments_lexer": "ipython3",
   "version": "3.9.7"
  }
 },
 "nbformat": 4,
 "nbformat_minor": 5
}
